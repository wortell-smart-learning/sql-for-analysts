{
    "metadata": {
        "kernelspec": {
            "name": "SQL",
            "display_name": "SQL",
            "language": "sql"
        },
        "language_info": {
            "name": "sql",
            "version": ""
        }
    },
    "nbformat_minor": 2,
    "nbformat": 4,
    "cells": [
        {
            "cell_type": "markdown",
            "source": [
                "# Manipulating data\r\n",
                "\r\n",
                "`SELECT` is by far the first and most used SQL keyword by any SQL user, in particular analysts. However, it will not help you to store, change or delete data within your database. In order to do that, you'll need different commands.\r\n",
                "\r\n",
                "The three essential commands are:\r\n",
                "\r\n",
                "* `INSERT` for inserting data into a table\r\n",
                "* `UPDATE` to change data inside a table\r\n",
                "* `DELETE` to delete data from a table\r\n",
                "\r\n",
                "## Preparation\r\n",
                "\r\n",
                "Connect to the `AdventureWorksLT` database, and execute the following script. This will create some tables we can safely use without messing with the original database."
            ],
            "metadata": {
                "azdata_cell_guid": "782e2c2f-ec3d-4dee-b686-be4e63f919aa"
            }
        },
        {
            "cell_type": "code",
            "source": [
                "IF OBJECT_ID('dbo.myCustomers', 'U') IS NOT NULL\r\n",
                "  DROP TABLE dbo.myCustomers;\r\n",
                "\r\n",
                "CREATE TABLE dbo.myCustomers (\r\n",
                "    CustomerID BIGINT IDENTITY(1,1) NOT NULL\r\n",
                "    , CustomerName NVARCHAR(20)\r\n",
                "    , CustomerAge INT\r\n",
                "    , CustomerBirthdate DATE\r\n",
                ");"
            ],
            "metadata": {
                "azdata_cell_guid": "b7793e92-e39c-41d1-b5dd-87b123dee9f3"
            },
            "outputs": [
                {
                    "output_type": "display_data",
                    "data": {
                        "text/html": "Commands completed successfully."
                    },
                    "metadata": {}
                },
                {
                    "output_type": "display_data",
                    "data": {
                        "text/html": "Total execution time: 00:00:00.0168971"
                    },
                    "metadata": {}
                }
            ],
            "execution_count": 1
        },
        {
            "cell_type": "markdown",
            "source": [
                "Check if there are any rows inside the table `dbo.myCustomers`. Use the cell below to write a `SELECT` query to check this.\r\n",
                ""
            ],
            "metadata": {
                "azdata_cell_guid": "1b3034ab-04a8-48dc-beed-d4414f883ffb"
            }
        },
        {
            "cell_type": "code",
            "source": [
                "-- type your SELECT here to check if dbo.myCustomers has any rows currently."
            ],
            "metadata": {
                "azdata_cell_guid": "d38911b0-ca74-4dde-905d-1d5afb81ae75"
            },
            "outputs": [
                {
                    "output_type": "display_data",
                    "data": {
                        "text/html": "(0 rows affected)"
                    },
                    "metadata": {}
                },
                {
                    "output_type": "display_data",
                    "data": {
                        "text/html": "Total execution time: 00:00:00.7478020"
                    },
                    "metadata": {}
                },
                {
                    "output_type": "execute_result",
                    "execution_count": 2,
                    "data": {
                        "application/vnd.dataresource+json": {
                            "schema": {
                                "fields": [
                                    {
                                        "name": "CustomerID"
                                    },
                                    {
                                        "name": "CustomerName"
                                    },
                                    {
                                        "name": "CustomerAge"
                                    },
                                    {
                                        "name": "CustomerBirthdate"
                                    }
                                ]
                            },
                            "data": []
                        },
                        "text/html": "<table><tr><th>CustomerID</th><th>CustomerName</th><th>CustomerAge</th><th>CustomerBirthdate</th></tr></table>"
                    },
                    "metadata": {}
                }
            ],
            "execution_count": 2
        },
        {
            "cell_type": "markdown",
            "source": [
                "## Inserting data\r\n",
                "\r\n",
                "The basic INSERT statement has three components: a table, a column list, and a values list.\r\n",
                "\r\n",
                "It works as follows:\r\n",
                "\r\n",
                "```sql\r\n",
                "INSERT INTO [schema].[table] (columnname1, ..., columnname_n_)\r\n",
                "VALUES ('value_for_column1', ..., 'value_for_column_n_');\r\n",
                "```\r\n",
                "\r\n",
                "Test if can get this to work in the cell below. Insert two customers:\r\n",
                "\r\n",
                "* Name: John, Age: 54\r\n",
                "* Name: Sandra, Age: 36\r\n",
                "\r\n",
                "**You don't have to specify all columns - only include the columns that you have values for (`CustomerName` and `CustomerAge`) - in the column list as well as in the `VALUES` list.**"
            ],
            "metadata": {
                "azdata_cell_guid": "750d1f4f-6219-4a00-8523-5c80f36ecaaf"
            }
        },
        {
            "cell_type": "code",
            "source": [
                "-- Write your INSERT statement for John (Age 54) here\r\n",
                ""
            ],
            "metadata": {
                "azdata_cell_guid": "b3c335ee-77f4-479f-94e0-fe9d583d042f"
            },
            "outputs": [
                {
                    "output_type": "display_data",
                    "data": {
                        "text/html": "(1 row affected)"
                    },
                    "metadata": {}
                },
                {
                    "output_type": "display_data",
                    "data": {
                        "text/html": "Total execution time: 00:00:00.0084503"
                    },
                    "metadata": {}
                }
            ],
            "execution_count": 3
        },
        {
            "cell_type": "code",
            "source": [
                "-- Write your INSERT statement for Sandra (Age 36) here\r\n",
                ""
            ],
            "metadata": {
                "azdata_cell_guid": "9eb95741-d54e-4755-ad07-2a925cf016f3"
            },
            "outputs": [
                {
                    "output_type": "display_data",
                    "data": {
                        "text/html": "(2 rows affected)"
                    },
                    "metadata": {}
                },
                {
                    "output_type": "display_data",
                    "data": {
                        "text/html": "Total execution time: 00:00:00.0082924"
                    },
                    "metadata": {}
                }
            ],
            "execution_count": 8
        },
        {
            "cell_type": "markdown",
            "source": [
                "Now, write a SELECT statement and check the contents of this table. \r\n",
                "\r\n",
                "* Are the results as expected?\r\n",
                "* Try to explain any unexpected results"
            ],
            "metadata": {
                "azdata_cell_guid": "93163412-9c81-4795-9737-b5c41e169c1c"
            }
        },
        {
            "cell_type": "code",
            "source": [
                ""
            ],
            "metadata": {
                "azdata_cell_guid": "213d46d2-bb24-4a54-b75a-117bfe09d637"
            },
            "outputs": [
                {
                    "output_type": "display_data",
                    "data": {
                        "text/html": "(4 rows affected)"
                    },
                    "metadata": {}
                },
                {
                    "output_type": "display_data",
                    "data": {
                        "text/html": "Total execution time: 00:00:00.0175598"
                    },
                    "metadata": {}
                },
                {
                    "output_type": "execute_result",
                    "execution_count": 9,
                    "data": {
                        "application/vnd.dataresource+json": {
                            "schema": {
                                "fields": [
                                    {
                                        "name": "CustomerID"
                                    },
                                    {
                                        "name": "CustomerName"
                                    },
                                    {
                                        "name": "CustomerAge"
                                    },
                                    {
                                        "name": "CustomerBirthdate"
                                    }
                                ]
                            },
                            "data": [
                                {
                                    "0": "1",
                                    "1": "John",
                                    "2": "54",
                                    "3": "NULL"
                                },
                                {
                                    "0": "2",
                                    "1": "John",
                                    "2": "36",
                                    "3": "NULL"
                                },
                                {
                                    "0": "3",
                                    "1": "Sandra",
                                    "2": "36",
                                    "3": "NULL"
                                },
                                {
                                    "0": "4",
                                    "1": "Maria",
                                    "2": "42",
                                    "3": "NULL"
                                }
                            ]
                        },
                        "text/html": "<table><tr><th>CustomerID</th><th>CustomerName</th><th>CustomerAge</th><th>CustomerBirthdate</th></tr><tr><td>1</td><td>John</td><td>54</td><td>NULL</td></tr><tr><td>2</td><td>John</td><td>36</td><td>NULL</td></tr><tr><td>3</td><td>Sandra</td><td>36</td><td>NULL</td></tr><tr><td>4</td><td>Maria</td><td>42</td><td>NULL</td></tr></table>"
                    },
                    "metadata": {}
                }
            ],
            "execution_count": 9
        },
        {
            "cell_type": "markdown",
            "source": [
                "## Updates\r\n",
                "\r\n",
                "As you've seen, the birthdates of John and Sandra were not available during the initial insert. To update these columns, we can use the `UPDATE` statement. In its most simple form, it looks like this:\r\n",
                "\r\n",
                "```sql\r\n",
                "UPDATE [schema].[table]\r\n",
                "SET columnname1 = 'value_for_column1', ..., columnname_n_ = 'value_for_column_n_'\r\n",
                "```\r\n",
                "\r\n",
                "There's one problem with the statement above: it updates the specified columns *for all rows in the table*. In other words, when we used this \"plain\" `UPDATE` statement to set a birthdate, *all customers would get the same birthdate*.\r\n",
                "\r\n",
                "Let's try this and set all customer's birth dates to 1-1-1965 (use '1965-01-01' as value):"
            ],
            "metadata": {
                "azdata_cell_guid": "91feec4c-d75b-48ec-8788-a4218a4491f5"
            }
        },
        {
            "cell_type": "code",
            "source": [
                "-- Use this cell to write an UPDATE statement that sets the column CustomerBirthdate to '1965-01-01'\r\n",
                ""
            ],
            "metadata": {
                "azdata_cell_guid": "bf308197-0ea7-4b8c-b850-c32956bd1019",
                "tags": []
            },
            "outputs": [
                {
                    "output_type": "display_data",
                    "data": {
                        "text/html": "(4 rows affected)"
                    },
                    "metadata": {}
                },
                {
                    "output_type": "display_data",
                    "data": {
                        "text/html": "Total execution time: 00:00:00.5036482"
                    },
                    "metadata": {}
                }
            ],
            "execution_count": 11
        },
        {
            "cell_type": "code",
            "source": [
                "-- Check the contents of the myCustomers table with a SELECT statement.\r\n",
                ""
            ],
            "metadata": {
                "azdata_cell_guid": "eebe3e5a-6663-468b-bce5-b65b010a31e5"
            },
            "outputs": [
                {
                    "output_type": "display_data",
                    "data": {
                        "text/html": "(4 rows affected)"
                    },
                    "metadata": {}
                },
                {
                    "output_type": "display_data",
                    "data": {
                        "text/html": "Total execution time: 00:00:00.0238171"
                    },
                    "metadata": {}
                },
                {
                    "output_type": "execute_result",
                    "execution_count": 12,
                    "data": {
                        "application/vnd.dataresource+json": {
                            "schema": {
                                "fields": [
                                    {
                                        "name": "CustomerID"
                                    },
                                    {
                                        "name": "CustomerName"
                                    },
                                    {
                                        "name": "CustomerAge"
                                    },
                                    {
                                        "name": "CustomerBirthdate"
                                    }
                                ]
                            },
                            "data": [
                                {
                                    "0": "1",
                                    "1": "John",
                                    "2": "54",
                                    "3": "1965-01-01"
                                },
                                {
                                    "0": "2",
                                    "1": "John",
                                    "2": "36",
                                    "3": "1965-01-01"
                                },
                                {
                                    "0": "3",
                                    "1": "Sandra",
                                    "2": "36",
                                    "3": "1965-01-01"
                                },
                                {
                                    "0": "4",
                                    "1": "Maria",
                                    "2": "42",
                                    "3": "1965-01-01"
                                }
                            ]
                        },
                        "text/html": "<table><tr><th>CustomerID</th><th>CustomerName</th><th>CustomerAge</th><th>CustomerBirthdate</th></tr><tr><td>1</td><td>John</td><td>54</td><td>1965-01-01</td></tr><tr><td>2</td><td>John</td><td>36</td><td>1965-01-01</td></tr><tr><td>3</td><td>Sandra</td><td>36</td><td>1965-01-01</td></tr><tr><td>4</td><td>Maria</td><td>42</td><td>1965-01-01</td></tr></table>"
                    },
                    "metadata": {}
                }
            ],
            "execution_count": 12
        },
        {
            "cell_type": "markdown",
            "source": [
                "In order to update only selected rows, we use the same mechanic as within the `SELECT` statement: `WHERE`. For example:\r\n",
                "\r\n",
                "```sql\r\n",
                "UPDATE [schema].[table] SET CustomerPolitics = 'Republican' WHERE CustomerName = 'John'\r\n",
                "```\r\n",
                "\r\n",
                "Use this construct to set the following values:\r\n",
                "\r\n",
                "* For John: Birthdate 28-02-1965\r\n",
                "* For Sandra: Birthdate 15-02-1983"
            ],
            "metadata": {
                "azdata_cell_guid": "2759a96f-df68-43dc-9dfc-b791d779c2a9"
            }
        },
        {
            "cell_type": "code",
            "source": [
                "-- Update John's birthdate to 28-02-1965\r\n",
                ""
            ],
            "metadata": {
                "azdata_cell_guid": "b9477a1e-f73f-4cca-abcb-d426b6f5bf42"
            },
            "outputs": [
                {
                    "output_type": "display_data",
                    "data": {
                        "text/html": "(2 rows affected)"
                    },
                    "metadata": {}
                },
                {
                    "output_type": "display_data",
                    "data": {
                        "text/html": "Total execution time: 00:00:00.0179332"
                    },
                    "metadata": {}
                }
            ],
            "execution_count": 13
        },
        {
            "cell_type": "code",
            "source": [
                "SELECT\r\n",
                "CustomerBirthdate = ' 1965-02-28', *\r\n",
                "FROM [dbo].[myCustomers]\r\n",
                "WHERE CustomerName = 'John'"
            ],
            "metadata": {
                "azdata_cell_guid": "33d97b19-c9ed-4442-ab81-432e6c60de74"
            },
            "outputs": [
                {
                    "output_type": "display_data",
                    "data": {
                        "text/html": "(1 row affected)"
                    },
                    "metadata": {}
                },
                {
                    "output_type": "display_data",
                    "data": {
                        "text/html": "Total execution time: 00:00:00.0114094"
                    },
                    "metadata": {}
                },
                {
                    "output_type": "execute_result",
                    "execution_count": 19,
                    "data": {
                        "application/vnd.dataresource+json": {
                            "schema": {
                                "fields": [
                                    {
                                        "name": "CustomerBirthdate"
                                    },
                                    {
                                        "name": "CustomerID"
                                    },
                                    {
                                        "name": "CustomerName"
                                    },
                                    {
                                        "name": "CustomerAge"
                                    },
                                    {
                                        "name": "CustomerBirthdate"
                                    }
                                ]
                            },
                            "data": [
                                {
                                    "0": " 1965-02-28",
                                    "1": "1",
                                    "2": "John",
                                    "3": "54",
                                    "4": "1965-02-28"
                                }
                            ]
                        },
                        "text/html": "<table><tr><th>CustomerBirthdate</th><th>CustomerID</th><th>CustomerName</th><th>CustomerAge</th><th>CustomerBirthdate</th></tr><tr><td> 1965-02-28</td><td>1</td><td>John</td><td>54</td><td>1965-02-28</td></tr></table>"
                    },
                    "metadata": {}
                }
            ],
            "execution_count": 19
        },
        {
            "cell_type": "code",
            "source": [
                "-- Update Sandra's birthdate to 15-02-1983"
            ],
            "metadata": {
                "azdata_cell_guid": "5c24bcf1-0aa4-416f-a8f6-298e15e6814d"
            },
            "outputs": [],
            "execution_count": null
        },
        {
            "cell_type": "markdown",
            "source": [
                "Now correct Sandra's name to *Alexandra* (you can use the same column in the `WHERE` construct as in the `UPDATE .. SET` columnlist)"
            ],
            "metadata": {
                "azdata_cell_guid": "517694da-0a30-4b84-a2de-78ac4a59efe4"
            }
        },
        {
            "cell_type": "code",
            "source": [
                "-- Update Sandra's name to *Alexandra*\r\n",
                ""
            ],
            "metadata": {
                "azdata_cell_guid": "911ad917-3d4f-490c-b73d-75b8c202e14e"
            },
            "outputs": [
                {
                    "output_type": "display_data",
                    "data": {
                        "text/html": "(1 row affected)"
                    },
                    "metadata": {}
                },
                {
                    "output_type": "display_data",
                    "data": {
                        "text/html": "Total execution time: 00:00:00.0183740"
                    },
                    "metadata": {}
                }
            ],
            "execution_count": 14
        },
        {
            "cell_type": "markdown",
            "source": [
                "> As you can see, the `UPDATE` statement can affect a lot of rows at once. Therefor, you might want to check (with a `SELECT`) which rows your `UPDATE` would hit.  \r\n",
                "> Although rewriting the basic `UPDATE` statement we just used into a `SELECT` statement is not that hard, it could easily introduce some non-intended errors.  \r\n",
                "> Luckily, we can also write the `UPDATE` statement in an almost `SELECT`-like way:\r\n",
                ">\r\n",
                "> ```sql\r\n",
                "> UPDATE [tablename] SET \r\n",
                ">    Column1 = 'value1'\r\n",
                ">    , ...\r\n",
                ">    , ColumnN = 'valueN'\r\n",
                "> FROM [schemaname].[tablename]\r\n",
                "> WHERE (etc.);\r\n",
                "> ```\r\n",
                "> \r\n",
                "> Now, we can replace the `UPDATE [tablename] SET` simply with `SELECT`, and a perfectly valid `SELECT` statement would remain, providing us with a view of the result of the `UPDATE` statement:\r\n",
                ">\r\n",
                "> ```sql\r\n",
                "> SELECT\r\n",
                ">    Column1 = 'value1'\r\n",
                ">    , ...\r\n",
                ">    , ColumnN = 'valueN'\r\n",
                ">    -- You can add \", *\" to include all original columns alongside with the updated ones\r\n",
                "> FROM [schemaname].[tablename]\r\n",
                "> WHERE (etc.);\r\n",
                "> ```\r\n",
                "> \r\n",
                "> We use a slightly different `SELECT` statement here, where each selected value (`'value1'` unto `'valueN'`) is given an *alias*. This is just the column header in your result set (usually you'd see your column names here)."
            ],
            "metadata": {
                "azdata_cell_guid": "454e2f45-8317-4be7-b257-52fec5352b01"
            }
        },
        {
            "cell_type": "markdown",
            "source": [
                "## Delete\r\n",
                "\r\n",
                "In order to remove rows from a table, we can use the `DELETE` statement. As no values or columns need to be provided (after all, we're only deleting *rows*, regardless of the columns or values within), the syntax is easier than `UPDATE` or `INSERT`:\r\n",
                "\r\n",
                "```sql\r\n",
                "DELETE\r\n",
                "FROM [schemaname].[tablename];\r\n",
                "```\r\n",
                "\r\n",
                "As with the `UPDATE` statement, this statement would **delete all rows**. So, just like the `UPDATE` statement, we'll use the `DELETE` always in conjunction with `WHERE`:\r\n",
                "\r\n",
                "```sql\r\n",
                "DELETE\r\n",
                "FROM [schemaname].[tablename]\r\n",
                "WHERE (expression);\r\n",
                "```\r\n",
                "\r\n",
                "Delete the row with John from the table."
            ],
            "metadata": {
                "azdata_cell_guid": "a2060e34-b19b-440f-9a95-2eee7768cd53"
            }
        },
        {
            "cell_type": "code",
            "source": [
                "-- Delete customer John\r\n",
                ""
            ],
            "metadata": {
                "azdata_cell_guid": "1bfa2e0d-f922-4527-b81d-a2a03d7d5452"
            },
            "outputs": [
                {
                    "output_type": "display_data",
                    "data": {
                        "text/html": "(4 rows affected)"
                    },
                    "metadata": {}
                },
                {
                    "output_type": "display_data",
                    "data": {
                        "text/html": "Total execution time: 00:00:00.0123417"
                    },
                    "metadata": {}
                },
                {
                    "output_type": "execute_result",
                    "execution_count": 15,
                    "data": {
                        "application/vnd.dataresource+json": {
                            "schema": {
                                "fields": [
                                    {
                                        "name": "CustomerID"
                                    },
                                    {
                                        "name": "CustomerName"
                                    },
                                    {
                                        "name": "CustomerAge"
                                    },
                                    {
                                        "name": "CustomerBirthdate"
                                    }
                                ]
                            },
                            "data": [
                                {
                                    "0": "1",
                                    "1": "John",
                                    "2": "54",
                                    "3": "1965-02-28"
                                },
                                {
                                    "0": "2",
                                    "1": "John",
                                    "2": "36",
                                    "3": "1965-02-28"
                                },
                                {
                                    "0": "3",
                                    "1": "Alexandra",
                                    "2": "36",
                                    "3": "1965-01-01"
                                },
                                {
                                    "0": "4",
                                    "1": "Maria",
                                    "2": "42",
                                    "3": "1965-01-01"
                                }
                            ]
                        },
                        "text/html": "<table><tr><th>CustomerID</th><th>CustomerName</th><th>CustomerAge</th><th>CustomerBirthdate</th></tr><tr><td>1</td><td>John</td><td>54</td><td>1965-02-28</td></tr><tr><td>2</td><td>John</td><td>36</td><td>1965-02-28</td></tr><tr><td>3</td><td>Alexandra</td><td>36</td><td>1965-01-01</td></tr><tr><td>4</td><td>Maria</td><td>42</td><td>1965-01-01</td></tr></table>"
                    },
                    "metadata": {}
                }
            ],
            "execution_count": 15
        },
        {
            "cell_type": "code",
            "source": [
                ""
            ],
            "metadata": {
                "azdata_cell_guid": "1965a415-4b7c-4421-81ed-00ffae01e818"
            },
            "outputs": [
                {
                    "output_type": "display_data",
                    "data": {
                        "text/html": "(1 row affected)"
                    },
                    "metadata": {}
                },
                {
                    "output_type": "display_data",
                    "data": {
                        "text/html": "Total execution time: 00:00:01.0027881"
                    },
                    "metadata": {}
                }
            ],
            "execution_count": 16
        },
        {
            "cell_type": "code",
            "source": [
                "-- Check the results: is John really deleted?\r\n",
                ""
            ],
            "metadata": {
                "azdata_cell_guid": "f28604ae-b736-4b45-bb6c-d7aebf5ff44f"
            },
            "outputs": [
                {
                    "output_type": "display_data",
                    "data": {
                        "text/html": "(1 row affected)"
                    },
                    "metadata": {}
                },
                {
                    "output_type": "display_data",
                    "data": {
                        "text/html": "Total execution time: 00:00:00.0216092"
                    },
                    "metadata": {}
                },
                {
                    "output_type": "execute_result",
                    "execution_count": 17,
                    "data": {
                        "application/vnd.dataresource+json": {
                            "schema": {
                                "fields": [
                                    {
                                        "name": "CustomerID"
                                    },
                                    {
                                        "name": "CustomerName"
                                    },
                                    {
                                        "name": "CustomerAge"
                                    },
                                    {
                                        "name": "CustomerBirthdate"
                                    }
                                ]
                            },
                            "data": [
                                {
                                    "0": "1",
                                    "1": "John",
                                    "2": "54",
                                    "3": "1965-02-28"
                                }
                            ]
                        },
                        "text/html": "<table><tr><th>CustomerID</th><th>CustomerName</th><th>CustomerAge</th><th>CustomerBirthdate</th></tr><tr><td>1</td><td>John</td><td>54</td><td>1965-02-28</td></tr></table>"
                    },
                    "metadata": {}
                }
            ],
            "execution_count": 17
        },
        {
            "cell_type": "code",
            "source": [
                "-- Try to delete John again (yes, he was already deleted for sure). Do you see any differences? (Notice that no error occurs!)\r\n",
                ""
            ],
            "metadata": {
                "azdata_cell_guid": "6bbc05fa-17a1-47f5-9edd-c29ee3de7c66"
            },
            "outputs": [
                {
                    "output_type": "display_data",
                    "data": {
                        "text/html": "(0 rows affected)"
                    },
                    "metadata": {}
                },
                {
                    "output_type": "display_data",
                    "data": {
                        "text/html": "Total execution time: 00:00:00.0027470"
                    },
                    "metadata": {}
                }
            ],
            "execution_count": 20
        }
    ]
}