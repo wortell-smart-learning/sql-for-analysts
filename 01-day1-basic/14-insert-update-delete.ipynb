{
    "metadata": {
        "kernelspec": {
            "name": "SQL",
            "display_name": "SQL",
            "language": "sql"
        },
        "language_info": {
            "name": "sql",
            "version": ""
        }
    },
    "nbformat_minor": 2,
    "nbformat": 4,
    "cells": [
        {
            "cell_type": "markdown",
            "source": [
                "# Manipulating data\n",
                "\n",
                "`SELECT` is by far the first and most used SQL keyword by any SQL user, in particular analysts. However, it will not help you to store, change or delete data within your database. In order to do that, you'll need different commands.\n",
                "\n",
                "The three essential commands are:\n",
                "\n",
                "* `INSERT` for inserting data into a table\n",
                "* `UPDATE` to change data inside a table\n",
                "* `DELETE` to delete data from a table\n",
                "\n",
                "## Preparation\n",
                "\n",
                "Connect to the `AdventureWorksLT` database, and execute the following script. This will create some tables we can safely use without messing with the original database."
            ],
            "metadata": {
                "azdata_cell_guid": "782e2c2f-ec3d-4dee-b686-be4e63f919aa"
            }
        },
        {
            "cell_type": "code",
            "source": [
                "IF OBJECT_ID('dbo.myCustomers', 'U') IS NOT NULL\n",
                "  DROP TABLE dbo.myCustomers;\n",
                "\n",
                "CREATE TABLE dbo.myCustomers (\n",
                "    CustomerID BIGINT IDENTITY(1,1) NOT NULL\n",
                "    , CustomerName NVARCHAR(20)\n",
                "    , CustomerAge INT\n",
                "    , CustomerBirthdate DATE\n",
                ");"
            ],
            "metadata": {
                "azdata_cell_guid": "b7793e92-e39c-41d1-b5dd-87b123dee9f3"
            },
            "outputs": [
                {
                    "output_type": "display_data",
                    "data": {
                        "text/html": "Commands completed successfully."
                    },
                    "metadata": {}
                },
                {
                    "output_type": "display_data",
                    "data": {
                        "text/html": "Total execution time: 00:00:00.0168971"
                    },
                    "metadata": {}
                }
            ],
            "execution_count": null
        },
        {
            "cell_type": "markdown",
            "source": [
                "Check if there are any rows inside the table `dbo.myCustomers`. Use the cell below to write a `SELECT` query to check this.\n"
            ],
            "metadata": {
                "azdata_cell_guid": "1b3034ab-04a8-48dc-beed-d4414f883ffb"
            }
        },
        {
            "cell_type": "code",
            "source": [
                "-- type your SELECT here to check if dbo.myCustomers has any rows currently.\n",
                ""
            ],
            "metadata": {
                "azdata_cell_guid": "d38911b0-ca74-4dde-905d-1d5afb81ae75"
            },
            "outputs": [],
            "execution_count": null
        },
        {
            "cell_type": "markdown",
            "source": [
                "## Inserting data\n",
                "\n",
                "The basic INSERT statement has three components: a table, a column list, and a values list.\n",
                "\n",
                "It works as follows:\n",
                "\n",
                "```sql\n",
                "INSERT INTO [schema].[table] (columnname1, ..., columnname_n_)\n",
                "VALUES ('value_for_column1', ..., 'value_for_column_n_');\n",
                "```\n",
                "\n",
                "Test if can get this to work in the cell below. Insert two customers:\n",
                "\n",
                "* Name: John, Age: 54\n",
                "* Name: Sandra, Age: 36\n",
                "\n",
                "**You don't have to specify all columns - only include the columns that you have values for (`CustomerName` and `CustomerAge`) - in the column list as well as in the `VALUES` list.**"
            ],
            "metadata": {
                "azdata_cell_guid": "3c1692cc-e504-4bf4-9efe-258d2502c1e7"
            }
        },
        {
            "cell_type": "code",
            "source": [
                "-- Write your INSERT statement for John (Age 54) here\n"
            ],
            "metadata": {
                "azdata_cell_guid": "06339323-abc2-4d04-956f-7a255f3ee7ad"
            },
            "outputs": [
                {
                    "output_type": "display_data",
                    "data": {
                        "text/html": "(1 row affected)"
                    },
                    "metadata": {}
                },
                {
                    "output_type": "display_data",
                    "data": {
                        "text/html": "Total execution time: 00:00:00.0084503"
                    },
                    "metadata": {}
                }
            ],
            "execution_count": 3
        },
        {
            "cell_type": "code",
            "source": [
                "-- Write your INSERT statement for Sandra (Age 36) here\n"
            ],
            "metadata": {
                "azdata_cell_guid": "3b24bdad-0a7a-4e5a-af23-a180ec139598"
            },
            "outputs": [
                {
                    "output_type": "display_data",
                    "data": {
                        "text/html": "(2 rows affected)"
                    },
                    "metadata": {}
                },
                {
                    "output_type": "display_data",
                    "data": {
                        "text/html": "Total execution time: 00:00:00.0082924"
                    },
                    "metadata": {}
                }
            ],
            "execution_count": 8
        },
        {
            "cell_type": "markdown",
            "source": [
                "Now, write a SELECT statement and check the contents of this table. \n",
                "\n",
                "* Are the results as expected?\n",
                "* Try to explain any unexpected results"
            ],
            "metadata": {
                "azdata_cell_guid": "3faf0521-de1d-4bcb-b118-d3e8546b51d6"
            }
        },
        {
            "cell_type": "code",
            "source": [
                ""
            ],
            "metadata": {
                "azdata_cell_guid": "daa15bb5-e5cd-4b7e-b9d4-79a350b475eb"
            },
            "outputs": [],
            "execution_count": null
        },
        {
            "cell_type": "markdown",
            "source": [
                "## Updates\n",
                "\n",
                "As you've seen, the birthdates of John and Sandra were not available during the initial insert. To update these columns, we can use the `UPDATE` statement. In its most simple form, it looks like this:\n",
                "\n",
                "```sql\n",
                "UPDATE [schema].[table]\n",
                "SET columnname1 = 'value_for_column1', ..., columnname_n_ = 'value_for_column_n_'\n",
                "```\n",
                "\n",
                "There's one problem with the statement above: it updates the specified columns *for all rows in the table*. In other words, when we used this \"plain\" `UPDATE` statement to set a birthdate, *all customers would get the same birthdate*.\n",
                "\n",
                "Let's try this and set all customer's birth dates to 1-1-1965 (use '1965-01-01' as value):"
            ],
            "metadata": {
                "azdata_cell_guid": "96be64a4-5cb2-4826-9940-77b6d74a455a"
            }
        },
        {
            "cell_type": "code",
            "source": [
                "-- Use this cell to write an UPDATE statement that sets the column CustomerBirthdate to '1965-01-01'\n"
            ],
            "metadata": {
                "azdata_cell_guid": "c5cbf9a6-fe44-4bc1-88f6-4069da3a9ca7"
            },
            "outputs": [
                {
                    "output_type": "display_data",
                    "data": {
                        "text/html": "(4 rows affected)"
                    },
                    "metadata": {}
                },
                {
                    "output_type": "display_data",
                    "data": {
                        "text/html": "Total execution time: 00:00:00.5036482"
                    },
                    "metadata": {}
                }
            ],
            "execution_count": 11
        },
        {
            "cell_type": "code",
            "source": [
                "-- Check the contents of the myCustomers table with a SELECT statement.\n"
            ],
            "metadata": {
                "azdata_cell_guid": "7f2e6f43-67e8-4842-94fd-c4f6f41a70d8"
            },
            "outputs": [
                {
                    "output_type": "display_data",
                    "data": {
                        "text/html": "(4 rows affected)"
                    },
                    "metadata": {}
                },
                {
                    "output_type": "display_data",
                    "data": {
                        "text/html": "Total execution time: 00:00:00.0238171"
                    },
                    "metadata": {}
                },
                {
                    "output_type": "execute_result",
                    "execution_count": 12,
                    "data": {
                        "application/vnd.dataresource+json": {
                            "data": [
                                {
                                    "0": "1",
                                    "1": "John",
                                    "2": "54",
                                    "3": "1965-01-01"
                                },
                                {
                                    "0": "2",
                                    "1": "John",
                                    "2": "36",
                                    "3": "1965-01-01"
                                },
                                {
                                    "0": "3",
                                    "1": "Sandra",
                                    "2": "36",
                                    "3": "1965-01-01"
                                },
                                {
                                    "0": "4",
                                    "1": "Maria",
                                    "2": "42",
                                    "3": "1965-01-01"
                                }
                            ],
                            "schema": {
                                "fields": [
                                    {
                                        "name": "CustomerID"
                                    },
                                    {
                                        "name": "CustomerName"
                                    },
                                    {
                                        "name": "CustomerAge"
                                    },
                                    {
                                        "name": "CustomerBirthdate"
                                    }
                                ]
                            }
                        },
                        "text/html": "<table><tr><th>CustomerID</th><th>CustomerName</th><th>CustomerAge</th><th>CustomerBirthdate</th></tr><tr><td>1</td><td>John</td><td>54</td><td>1965-01-01</td></tr><tr><td>2</td><td>John</td><td>36</td><td>1965-01-01</td></tr><tr><td>3</td><td>Sandra</td><td>36</td><td>1965-01-01</td></tr><tr><td>4</td><td>Maria</td><td>42</td><td>1965-01-01</td></tr></table>"
                    },
                    "metadata": {}
                }
            ],
            "execution_count": 12
        },
        {
            "cell_type": "markdown",
            "source": [
                "In order to update only selected rows, we use the same mechanic as within the `SELECT` statement: `WHERE`. For example:\n",
                "\n",
                "```sql\n",
                "UPDATE [schema].[table] SET CustomerPolitics = 'Republican' WHERE CustomerName = 'John'\n",
                "```\n",
                "\n",
                "Use this construct to set the following values:\n",
                "\n",
                "* For John: Birthdate 28-02-1965\n",
                "* For Sandra: Birthdate 15-02-1983"
            ],
            "metadata": {
                "azdata_cell_guid": "dc630067-1143-4af7-9f44-305dd7e8e06a"
            }
        },
        {
            "cell_type": "code",
            "source": [
                "-- Update John's birthdate to 28-02-1965 (1965-02-28)\n"
            ],
            "metadata": {
                "azdata_cell_guid": "e2061c8c-3240-495f-8741-09516eff9a99"
            },
            "outputs": [
                {
                    "output_type": "display_data",
                    "data": {
                        "text/html": "(2 rows affected)"
                    },
                    "metadata": {}
                },
                {
                    "output_type": "display_data",
                    "data": {
                        "text/html": "Total execution time: 00:00:00.0179332"
                    },
                    "metadata": {}
                }
            ],
            "execution_count": 13
        },
        {
            "cell_type": "code",
            "source": [
                "-- Update Sandra's birthdate to 15-02-1983"
            ],
            "metadata": {
                "azdata_cell_guid": "fff4000c-dab3-4b5a-bd8c-117cf87d0035"
            },
            "outputs": [],
            "execution_count": null
        },
        {
            "cell_type": "markdown",
            "source": [
                "Now correct Sandra's name to *Alexandra* (you can use the same column in the `WHERE` construct as in the `UPDATE .. SET` columnlist)"
            ],
            "metadata": {
                "azdata_cell_guid": "79a70234-2e30-4426-b379-439c812c8aa0"
            }
        },
        {
            "cell_type": "code",
            "source": [
                "-- Update Sandra's name to *Alexandra*\n"
            ],
            "metadata": {
                "azdata_cell_guid": "e76da7b2-cc97-423d-b1bf-77a77f29522f"
            },
            "outputs": [
                {
                    "output_type": "display_data",
                    "data": {
                        "text/html": "(1 row affected)"
                    },
                    "metadata": {}
                },
                {
                    "output_type": "display_data",
                    "data": {
                        "text/html": "Total execution time: 00:00:00.0183740"
                    },
                    "metadata": {}
                }
            ],
            "execution_count": 14
        },
        {
            "cell_type": "markdown",
            "source": [
                "> As you can see, the `UPDATE` statement can affect a lot of rows at once. Therefor, you might want to check (with a `SELECT`) which rows your `UPDATE` would hit.  \n",
                "> Although rewriting the basic `UPDATE` statement we just used into a `SELECT` statement is not that hard, it could easily introduce some non-intended errors.  \n",
                "> Luckily, we can also write the `UPDATE` statement in an almost `SELECT`-like way:\n",
                ">\n",
                "> ```sql\n",
                "> UPDATE [tablename] SET \n",
                ">    Column1 = 'value1'\n",
                ">    , ...\n",
                ">    , ColumnN = 'valueN'\n",
                "> FROM [schemaname].[tablename]\n",
                "> WHERE (etc.);\n",
                "> ```\n",
                "> \n",
                "> Now, we can replace the `UPDATE [tablename] SET` simply with `SELECT`, and a perfectly valid `SELECT` statement would remain, providing us with a view of the result of the `UPDATE` statement:\n",
                ">\n",
                "> ```sql\n",
                "> SELECT\n",
                ">    Column1 = 'value1'\n",
                ">    , ...\n",
                ">    , ColumnN = 'valueN'\n",
                ">    -- You can add \", *\" to include all original columns alongside with the updated ones\n",
                "> FROM [schemaname].[tablename]\n",
                "> WHERE (etc.);\n",
                "> ```\n",
                "> \n",
                "> We use a slightly different `SELECT` statement here, where each selected value (`'value1'` unto `'valueN'`) is given an *alias*. This is just the column header in your result set (usually you'd see your column names here)."
            ],
            "metadata": {
                "azdata_cell_guid": "09f00a23-5a55-47fc-b32c-1dfc6acc688f"
            }
        },
        {
            "cell_type": "markdown",
            "source": [
                "## Delete\n",
                "\n",
                "In order to remove rows from a table, we can use the `DELETE` statement. As no values or columns need to be provided (after all, we're only deleting *rows*, regardless of the columns or values within), the syntax is easier than `UPDATE` or `INSERT`:\n",
                "\n",
                "```sql\n",
                "DELETE\n",
                "FROM [schemaname].[tablename];\n",
                "```\n",
                "\n",
                "As with the `UPDATE` statement, this statement would **delete all rows**. So, just like the `UPDATE` statement, we'll use the `DELETE` always in conjunction with `WHERE`:\n",
                "\n",
                "```sql\n",
                "DELETE\n",
                "FROM [schemaname].[tablename]\n",
                "WHERE (expression);\n",
                "```\n",
                "\n",
                "Delete the row with John from the table."
            ],
            "metadata": {
                "azdata_cell_guid": "c225250d-625e-47b7-ad1f-0d118c6a8038"
            }
        },
        {
            "cell_type": "code",
            "source": [
                "-- Delete customer John\n"
            ],
            "metadata": {
                "azdata_cell_guid": "e6e46e98-32d8-425c-9fb0-d8eca2da52e6"
            },
            "outputs": [
                {
                    "output_type": "display_data",
                    "data": {
                        "text/html": "(4 rows affected)"
                    },
                    "metadata": {}
                },
                {
                    "output_type": "display_data",
                    "data": {
                        "text/html": "Total execution time: 00:00:00.0123417"
                    },
                    "metadata": {}
                },
                {
                    "output_type": "execute_result",
                    "execution_count": 15,
                    "data": {
                        "application/vnd.dataresource+json": {
                            "data": [
                                {
                                    "0": "1",
                                    "1": "John",
                                    "2": "54",
                                    "3": "1965-02-28"
                                },
                                {
                                    "0": "2",
                                    "1": "John",
                                    "2": "36",
                                    "3": "1965-02-28"
                                },
                                {
                                    "0": "3",
                                    "1": "Alexandra",
                                    "2": "36",
                                    "3": "1965-01-01"
                                },
                                {
                                    "0": "4",
                                    "1": "Maria",
                                    "2": "42",
                                    "3": "1965-01-01"
                                }
                            ],
                            "schema": {
                                "fields": [
                                    {
                                        "name": "CustomerID"
                                    },
                                    {
                                        "name": "CustomerName"
                                    },
                                    {
                                        "name": "CustomerAge"
                                    },
                                    {
                                        "name": "CustomerBirthdate"
                                    }
                                ]
                            }
                        },
                        "text/html": "<table><tr><th>CustomerID</th><th>CustomerName</th><th>CustomerAge</th><th>CustomerBirthdate</th></tr><tr><td>1</td><td>John</td><td>54</td><td>1965-02-28</td></tr><tr><td>2</td><td>John</td><td>36</td><td>1965-02-28</td></tr><tr><td>3</td><td>Alexandra</td><td>36</td><td>1965-01-01</td></tr><tr><td>4</td><td>Maria</td><td>42</td><td>1965-01-01</td></tr></table>"
                    },
                    "metadata": {}
                }
            ],
            "execution_count": 15
        },
        {
            "cell_type": "code",
            "source": [
                "-- Check the results: is John really deleted?\n"
            ],
            "metadata": {
                "azdata_cell_guid": "ca382885-c0e7-4abe-890f-285f73eeffb3"
            },
            "outputs": [
                {
                    "output_type": "display_data",
                    "data": {
                        "text/html": "(1 row affected)"
                    },
                    "metadata": {}
                },
                {
                    "output_type": "display_data",
                    "data": {
                        "text/html": "Total execution time: 00:00:00.0216092"
                    },
                    "metadata": {}
                },
                {
                    "output_type": "execute_result",
                    "execution_count": 17,
                    "data": {
                        "application/vnd.dataresource+json": {
                            "data": [
                                {
                                    "0": "1",
                                    "1": "John",
                                    "2": "54",
                                    "3": "1965-02-28"
                                }
                            ],
                            "schema": {
                                "fields": [
                                    {
                                        "name": "CustomerID"
                                    },
                                    {
                                        "name": "CustomerName"
                                    },
                                    {
                                        "name": "CustomerAge"
                                    },
                                    {
                                        "name": "CustomerBirthdate"
                                    }
                                ]
                            }
                        },
                        "text/html": "<table><tr><th>CustomerID</th><th>CustomerName</th><th>CustomerAge</th><th>CustomerBirthdate</th></tr><tr><td>1</td><td>John</td><td>54</td><td>1965-02-28</td></tr></table>"
                    },
                    "metadata": {}
                }
            ],
            "execution_count": 17
        },
        {
            "cell_type": "code",
            "source": [
                "-- Try to delete John again (yes, he was already deleted for sure). Do you see any differences? (Notice that no error occurs!)\n"
            ],
            "metadata": {
                "azdata_cell_guid": "58c97329-c6c8-46c6-b337-930beae9d932"
            },
            "outputs": [
                {
                    "output_type": "display_data",
                    "data": {
                        "text/html": "(0 rows affected)"
                    },
                    "metadata": {}
                },
                {
                    "output_type": "display_data",
                    "data": {
                        "text/html": "Total execution time: 00:00:00.0027470"
                    },
                    "metadata": {}
                }
            ],
            "execution_count": 20
        }
    ]
}