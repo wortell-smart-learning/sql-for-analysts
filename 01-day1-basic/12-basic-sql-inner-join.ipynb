{
    "cells": [
        {
            "cell_type": "code",
            "execution_count": 3,
            "metadata": {},
            "outputs": [
                {
                    "data": {
                        "text/html": [
                            "(2 rows affected)"
                        ]
                    },
                    "metadata": {},
                    "output_type": "display_data"
                },
                {
                    "data": {
                        "text/html": [
                            "(3 rows affected)"
                        ]
                    },
                    "metadata": {},
                    "output_type": "display_data"
                },
                {
                    "data": {
                        "text/html": [
                            "Total execution time: 00:00:00.0633924"
                        ]
                    },
                    "metadata": {},
                    "output_type": "display_data"
                }
            ],
            "source": [
                "-- Setup code\n",
                "-- Creates tables we need just for this module / notebook\n",
                "IF OBJECT_ID('dbo.ProductCategory', 'U') IS NOT NULL\n",
                "  DROP TABLE ProductCategory;\n",
                "\n",
                "IF OBJECT_ID('dbo.Product', 'U') IS NOT NULL\n",
                "  DROP TABLE Product;\n",
                "\n",
                "SELECT *\n",
                "INTO ProductCategory\n",
                "FROM (\n",
                "    VALUES (1, 'Bikes'), (2, 'Cars')\n",
                ") AS ProductCategory (categoryId, categoryName)\n",
                "\n",
                "SELECT *\n",
                "INTO Product\n",
                "FROM (\n",
                "    VALUES (1, 1, 'Bicycle')\n",
                "    , (2, 1, 'Tricycle')\n",
                "    , (3, 2, 'Station wagon')\n",
                ") AS Product (productId, productCategoryId, productName);"
            ]
        },
        {
            "cell_type": "markdown",
            "metadata": {},
            "source": [
                "# Joins\n",
                "\n",
                "There are several join types in SQL, and you can think of them in many ways. Whatever way you choose, remember that a `JOIN` is **not** a *lookup* operation!\n",
                "\n",
                "## Cartesian product\n",
                "\n",
                "The mother of all joins is the `CROSS JOIN`, or the *cartesian product*. This is a somewhat technical term, but it simply means \"all possible combinations of rows\"\n",
                "\n",
                "> When you have two tables and create all possible combination of rows, you've got a *cartesian product*.\n",
                "\n",
                "So what does this look like?\n",
                "\n",
                "Let's say we've got two tables: `Product` and `ProductCategory`. They look like this:\n",
                "\n",
                "| productId | productCategoryId | productName   |\n",
                "|-----------|-------------------|---------------|\n",
                "| 1         | 1                 | Bicycle       |\n",
                "| 2         | 1                 | Tricycle      |\n",
                "| 3         | 2                 | Station wagon |\n",
                "\n",
                "| categoryId | categoryName |\n",
                "|------------|--------------|\n",
                "| 1          | Bikes        |\n",
                "| 2          | Cars         |\n",
                "\n",
                "Now the *cartesian product* is just all possible combinations of rows:\n",
                "\n",
                "\n",
                "| categoryId | categoryName | productId | productCategoryId | productName   |\n",
                "|------------|--------------|-----------|-------------------|---------------|\n",
                "| 1          | Bikes        | 1         | 1                 | Bicycle       |\n",
                "| 2          | Cars         | 1         | 1                 | Bicycle       |\n",
                "| 1          | Bikes        | 2         | 1                 | Tricycle      |\n",
                "| 2          | Cars         | 2         | 1                 | Tricycle      |\n",
                "| 1          | Bikes        | 3         | 2                 | Station wagon |\n",
                "| 2          | Cars         | 3         | 2                 | Station wagon |\n",
                "\n",
                "To achieve this in SQL, you can use the `CROSS JOIN` clause:\n"
            ]
        },
        {
            "cell_type": "code",
            "execution_count": 4,
            "metadata": {},
            "outputs": [
                {
                    "data": {
                        "text/html": [
                            "(6 rows affected)"
                        ]
                    },
                    "metadata": {},
                    "output_type": "display_data"
                },
                {
                    "data": {
                        "text/html": [
                            "Total execution time: 00:00:00.1161838"
                        ]
                    },
                    "metadata": {},
                    "output_type": "display_data"
                },
                {
                    "data": {
                        "application/vnd.dataresource+json": {
                            "data": [
                                {
                                    "0": "1",
                                    "1": "Bikes",
                                    "2": "1",
                                    "3": "1",
                                    "4": "Bicycle"
                                },
                                {
                                    "0": "1",
                                    "1": "Bikes",
                                    "2": "2",
                                    "3": "1",
                                    "4": "Tricycle"
                                },
                                {
                                    "0": "1",
                                    "1": "Bikes",
                                    "2": "3",
                                    "3": "2",
                                    "4": "Station wagon"
                                },
                                {
                                    "0": "2",
                                    "1": "Cars",
                                    "2": "1",
                                    "3": "1",
                                    "4": "Bicycle"
                                },
                                {
                                    "0": "2",
                                    "1": "Cars",
                                    "2": "2",
                                    "3": "1",
                                    "4": "Tricycle"
                                },
                                {
                                    "0": "2",
                                    "1": "Cars",
                                    "2": "3",
                                    "3": "2",
                                    "4": "Station wagon"
                                }
                            ],
                            "schema": {
                                "fields": [
                                    {
                                        "name": "categoryId"
                                    },
                                    {
                                        "name": "categoryName"
                                    },
                                    {
                                        "name": "productId"
                                    },
                                    {
                                        "name": "productCategoryId"
                                    },
                                    {
                                        "name": "productName"
                                    }
                                ]
                            }
                        },
                        "text/html": [
                            "<table><tr><th>categoryId</th><th>categoryName</th><th>productId</th><th>productCategoryId</th><th>productName</th></tr><tr><td>1</td><td>Bikes</td><td>1</td><td>1</td><td>Bicycle</td></tr><tr><td>1</td><td>Bikes</td><td>2</td><td>1</td><td>Tricycle</td></tr><tr><td>1</td><td>Bikes</td><td>3</td><td>2</td><td>Station wagon</td></tr><tr><td>2</td><td>Cars</td><td>1</td><td>1</td><td>Bicycle</td></tr><tr><td>2</td><td>Cars</td><td>2</td><td>1</td><td>Tricycle</td></tr><tr><td>2</td><td>Cars</td><td>3</td><td>2</td><td>Station wagon</td></tr></table>"
                        ]
                    },
                    "execution_count": 4,
                    "metadata": {},
                    "output_type": "execute_result"
                }
            ],
            "source": [
                "SELECT\n",
                "   ProductCategory.categoryId\n",
                "   , ProductCategory.categoryName\n",
                "   , Product.productId\n",
                "   , Product.productCategoryId\n",
                "   , Product.productName\n",
                "FROM ProductCategory\n",
                "CROSS JOIN Product"
            ]
        },
        {
            "cell_type": "markdown",
            "metadata": {},
            "source": [
                "... but now we'd like only to display the products alongside the categories they really *belong* to (so essentially rows 2, 4 and 5 are eliminated).\n",
                "\n",
                "The most basic way of extending the query we wrote earlier would be as follows:"
            ]
        },
        {
            "cell_type": "code",
            "execution_count": 1,
            "metadata": {},
            "outputs": [
                {
                    "data": {
                        "text/html": [
                            "(3 rows affected)"
                        ]
                    },
                    "metadata": {},
                    "output_type": "display_data"
                },
                {
                    "data": {
                        "text/html": [
                            "Total execution time: 00:00:00.0369882"
                        ]
                    },
                    "metadata": {},
                    "output_type": "display_data"
                },
                {
                    "data": {
                        "application/vnd.dataresource+json": {
                            "data": [
                                {
                                    "0": "1",
                                    "1": "Bikes",
                                    "2": "1",
                                    "3": "1",
                                    "4": "Bicycle"
                                },
                                {
                                    "0": "1",
                                    "1": "Bikes",
                                    "2": "2",
                                    "3": "1",
                                    "4": "Tricycle"
                                },
                                {
                                    "0": "2",
                                    "1": "Cars",
                                    "2": "3",
                                    "3": "2",
                                    "4": "Station wagon"
                                }
                            ],
                            "schema": {
                                "fields": [
                                    {
                                        "name": "categoryId"
                                    },
                                    {
                                        "name": "categoryName"
                                    },
                                    {
                                        "name": "productId"
                                    },
                                    {
                                        "name": "productCategoryId"
                                    },
                                    {
                                        "name": "productName"
                                    }
                                ]
                            }
                        },
                        "text/html": [
                            "<table><tr><th>categoryId</th><th>categoryName</th><th>productId</th><th>productCategoryId</th><th>productName</th></tr><tr><td>1</td><td>Bikes</td><td>1</td><td>1</td><td>Bicycle</td></tr><tr><td>1</td><td>Bikes</td><td>2</td><td>1</td><td>Tricycle</td></tr><tr><td>2</td><td>Cars</td><td>3</td><td>2</td><td>Station wagon</td></tr></table>"
                        ]
                    },
                    "execution_count": 1,
                    "metadata": {},
                    "output_type": "execute_result"
                }
            ],
            "source": [
                "SELECT\n",
                "   ProductCategory.categoryId\n",
                "   , ProductCategory.categoryName\n",
                "   , Product.productId\n",
                "   , Product.productCategoryId\n",
                "   , Product.productName\n",
                "FROM ProductCategory\n",
                "CROSS JOIN Product\n",
                "WHERE ProductCategory.categoryId = Product.productCategoryId\n"
            ]
        },
        {
            "cell_type": "markdown",
            "metadata": {},
            "source": [
                "However, this way of writing is somewhat confusing: when reading from top to bottom, we essentially say first \"we want to make a cartesian product\", and then: \"now filter it back\".\n",
                "\n",
                "The better way to write this is using an `INNER JOIN` with an accompanying `ON` clause."
            ]
        },
        {
            "cell_type": "code",
            "execution_count": 2,
            "metadata": {},
            "outputs": [
                {
                    "data": {
                        "text/html": [
                            "(3 rows affected)"
                        ]
                    },
                    "metadata": {},
                    "output_type": "display_data"
                },
                {
                    "data": {
                        "text/html": [
                            "Total execution time: 00:00:00.0195141"
                        ]
                    },
                    "metadata": {},
                    "output_type": "display_data"
                },
                {
                    "data": {
                        "application/vnd.dataresource+json": {
                            "data": [
                                {
                                    "0": "1",
                                    "1": "Bikes",
                                    "2": "1",
                                    "3": "1",
                                    "4": "Bicycle"
                                },
                                {
                                    "0": "1",
                                    "1": "Bikes",
                                    "2": "2",
                                    "3": "1",
                                    "4": "Tricycle"
                                },
                                {
                                    "0": "2",
                                    "1": "Cars",
                                    "2": "3",
                                    "3": "2",
                                    "4": "Station wagon"
                                }
                            ],
                            "schema": {
                                "fields": [
                                    {
                                        "name": "categoryId"
                                    },
                                    {
                                        "name": "categoryName"
                                    },
                                    {
                                        "name": "productId"
                                    },
                                    {
                                        "name": "productCategoryId"
                                    },
                                    {
                                        "name": "productName"
                                    }
                                ]
                            }
                        },
                        "text/html": [
                            "<table><tr><th>categoryId</th><th>categoryName</th><th>productId</th><th>productCategoryId</th><th>productName</th></tr><tr><td>1</td><td>Bikes</td><td>1</td><td>1</td><td>Bicycle</td></tr><tr><td>1</td><td>Bikes</td><td>2</td><td>1</td><td>Tricycle</td></tr><tr><td>2</td><td>Cars</td><td>3</td><td>2</td><td>Station wagon</td></tr></table>"
                        ]
                    },
                    "execution_count": 2,
                    "metadata": {},
                    "output_type": "execute_result"
                }
            ],
            "source": [
                "SELECT\n",
                "   ProductCategory.categoryId\n",
                "   , ProductCategory.categoryName\n",
                "   , Product.productId\n",
                "   , Product.productCategoryId\n",
                "   , Product.productName\n",
                "FROM ProductCategory\n",
                "INNER JOIN Product ON ProductCategory.categoryId = Product.productCategoryId"
            ]
        },
        {
            "cell_type": "markdown",
            "metadata": {},
            "source": [
                "## Using joins\n",
                "\n",
                "1. Create a new query\n",
                "2. Make sure you're connected to the `AdventureWorksLT` database with the same number as your student login (so if you're `student-1`, pick `AdventureWorksLT-1`)\n",
                "3. Select the following columns from `SalesLT.Product`:\n",
                "   * Name\n",
                "   * Color\n",
                "   * ListPrice\n",
                "4. Notice the number of rows\n",
                "5. Add the column `Name` from the table `SalesLT.ProductCategory` to the result set. \n",
                "   * The column `Product.ProductCategoryID` should match with `ProductCategory.ProductCategoryID`\n",
                "   * The number of rows should stay the same\n",
                "6. Notice the number of rows in `SalesLT.ProductCategory`\n",
                "7. Introduce an error, but **do not execute the query yet**\n",
                "   * Replace your `ON` clause with the clause `ON Product.ProductCategoryID = Product.ProductCategoryID`\n",
                "   * How many rows do you expect?\n",
                "8. Execute the query, and check your assumptions\n",
                "9. Correct the query, so the result is identical to the result of step 7.\n",
                "\n",
                "Let's say we're interested in the color of product we've sold in a particular month.\n",
                "\n",
                "1. Write a query that joins the following tables. The columns to join on are called the same in all tables. The columns to select are listed below every table\n",
                "   * `SalesLT.Product`\n",
                "     * Name\n",
                "     * Color\n",
                "   * `SalesLT.SalesOrderDetail`\n",
                "     * UnitPrice\n",
                "   * `SalesLT.SalesOrderHeader`\n",
                "     * OrderDate\n",
                "2. Add a filter using a `WHERE` clause, so only orders with a `LineTotal` of greater than 203.3964 will be displayed\n",
                "3. Add two expressions to your select list: one for month, one for year\n",
                "   * The function `MONTH([name_of_date_column])` extracts a month number out of a date. For example, `MONTH('2019-12-31')` will yield `12`\n",
                "   * The function `YEAR()` does the same for a year.\n",
                "4. Extend the `WHERE` clause so that only results from June 2008 are displayed.\n",
                "5. Extend the query so that the 10 orders with the highest Freight costs are displayed. You need to use `TOP(n)` in conjunction with the `ORDER BY` clause."
            ]
        },
        {
            "cell_type": "code",
            "execution_count": null,
            "metadata": {},
            "outputs": [],
            "source": [
                "-- Cleanup code\n",
                "-- Removes tables we only needed for this section / notebook\n",
                "\n",
                "IF OBJECT_ID('dbo.ProductCategory', 'U') IS NOT NULL\n",
                "  DROP TABLE ProductCategory;\n",
                "\n",
                "IF OBJECT_ID('dbo.Product', 'U') IS NOT NULL\n",
                "  DROP TABLE Product;"
            ]
        }
    ],
    "metadata": {
        "kernelspec": {
            "display_name": "SQL",
            "language": "sql",
            "name": "SQL"
        },
        "language_info": {
            "name": "sql",
            "version": ""
        }
    },
    "nbformat": 4,
    "nbformat_minor": 2
}
