{
    "metadata": {
        "kernelspec": {
            "name": "SQL",
            "display_name": "SQL",
            "language": "sql"
        },
        "language_info": {
            "name": "sql",
            "version": ""
        }
    },
    "nbformat_minor": 2,
    "nbformat": 4,
    "cells": [
        {
            "cell_type": "code",
            "source": [
                "-- Setup code\r\n",
                "-- Creates tables we need just for this module / notebook\r\n",
                "IF OBJECT_ID('dbo.ProductCategory', 'U') IS NOT NULL\r\n",
                "  DROP TABLE ProductCategory;\r\n",
                "\r\n",
                "IF OBJECT_ID('dbo.Product', 'U') IS NOT NULL\r\n",
                "  DROP TABLE Product;\r\n",
                "\r\n",
                "SELECT *\r\n",
                "INTO ProductCategory\r\n",
                "FROM (\r\n",
                "    VALUES (1, 'Bikes'), (2, 'Cars')\r\n",
                ") AS ProductCategory (categoryId, categoryName)\r\n",
                "\r\n",
                "SELECT *\r\n",
                "INTO Product\r\n",
                "FROM (\r\n",
                "    VALUES (1, 1, 'Bicycle')\r\n",
                "    , (2, 1, 'Tricycle')\r\n",
                "    , (3, 2, 'Station wagon')\r\n",
                ") AS Product (productId, productCategoryId, productName);"
            ],
            "metadata": {
                "azdata_cell_guid": "aa12257c-fd90-4528-bd60-d89274f79eb4"
            },
            "outputs": [
                {
                    "output_type": "display_data",
                    "data": {
                        "text/html": "(2 rows affected)"
                    },
                    "metadata": {}
                },
                {
                    "output_type": "display_data",
                    "data": {
                        "text/html": "(3 rows affected)"
                    },
                    "metadata": {}
                },
                {
                    "output_type": "display_data",
                    "data": {
                        "text/html": "Total execution time: 00:00:00.0633924"
                    },
                    "metadata": {}
                }
            ],
            "execution_count": 3
        },
        {
            "cell_type": "markdown",
            "source": [
                "# Joins\r\n",
                "\r\n",
                "## Cartesian product\r\n",
                "\r\n",
                "The mother of all joins is the `CROSS JOIN`, or the *cartesian product*. This is a somewhat technical term, but it simply means \"all possible combinations of rows\"\r\n",
                "\r\n",
                "> When you have two tables and create all possible combination of rows, you've got a *cartesian product*.\r\n",
                "\r\n",
                "So what does this look like?\r\n",
                "\r\n",
                "Let's say we've got two tables: `Product` and `ProductCategory`. They look like this:\r\n",
                "\r\n",
                "| productId | productCategoryId | productName   |\r\n",
                "|-----------|-------------------|---------------|\r\n",
                "| 1         | 1                 | Bicycle       |\r\n",
                "| 2         | 1                 | Tricycle      |\r\n",
                "| 3         | 2                 | Station wagon |\r\n",
                "\r\n",
                "| categoryId | categoryName |\r\n",
                "|------------|--------------|\r\n",
                "| 1          | Bikes        |\r\n",
                "| 2          | Cars         |\r\n",
                "\r\n",
                "Now the *cartesian product* is just all possible combinations of rows:\r\n",
                "\r\n",
                "\r\n",
                "| categoryId | categoryName | productId | productCategoryId | productName   |\r\n",
                "|------------|--------------|-----------|-------------------|---------------|\r\n",
                "| 1          | Bikes        | 1         | 1                 | Bicycle       |\r\n",
                "| 2          | Cars         | 1         | 1                 | Bicycle       |\r\n",
                "| 1          | Bikes        | 2         | 1                 | Tricycle      |\r\n",
                "| 2          | Cars         | 2         | 1                 | Tricycle      |\r\n",
                "| 1          | Bikes        | 3         | 2                 | Station wagon |\r\n",
                "| 2          | Cars         | 3         | 2                 | Station wagon |\r\n",
                "\r\n",
                "To achieve this in SQL, you can use the `CROSS JOIN` clause:\r\n",
                ""
            ],
            "metadata": {
                "azdata_cell_guid": "cb75f501-163e-4a72-ab05-c0bbe8f383c5"
            }
        },
        {
            "cell_type": "code",
            "source": [
                "SELECT\r\n",
                "   ProductCategory.categoryId\r\n",
                "   , ProductCategory.categoryName\r\n",
                "   , Product.productId\r\n",
                "   , Product.productCategoryId\r\n",
                "   , Product.productName\r\n",
                "FROM ProductCategory\r\n",
                "CROSS JOIN Product"
            ],
            "metadata": {
                "azdata_cell_guid": "a3412905-4725-40ba-a917-d4ad4a98893b"
            },
            "outputs": [
                {
                    "output_type": "display_data",
                    "data": {
                        "text/html": "(6 rows affected)"
                    },
                    "metadata": {}
                },
                {
                    "output_type": "display_data",
                    "data": {
                        "text/html": "Total execution time: 00:00:00.1161838"
                    },
                    "metadata": {}
                },
                {
                    "output_type": "execute_result",
                    "execution_count": 4,
                    "data": {
                        "application/vnd.dataresource+json": {
                            "schema": {
                                "fields": [
                                    {
                                        "name": "categoryId"
                                    },
                                    {
                                        "name": "categoryName"
                                    },
                                    {
                                        "name": "productId"
                                    },
                                    {
                                        "name": "productCategoryId"
                                    },
                                    {
                                        "name": "productName"
                                    }
                                ]
                            },
                            "data": [
                                {
                                    "0": "1",
                                    "1": "Bikes",
                                    "2": "1",
                                    "3": "1",
                                    "4": "Bicycle"
                                },
                                {
                                    "0": "1",
                                    "1": "Bikes",
                                    "2": "2",
                                    "3": "1",
                                    "4": "Tricycle"
                                },
                                {
                                    "0": "1",
                                    "1": "Bikes",
                                    "2": "3",
                                    "3": "2",
                                    "4": "Station wagon"
                                },
                                {
                                    "0": "2",
                                    "1": "Cars",
                                    "2": "1",
                                    "3": "1",
                                    "4": "Bicycle"
                                },
                                {
                                    "0": "2",
                                    "1": "Cars",
                                    "2": "2",
                                    "3": "1",
                                    "4": "Tricycle"
                                },
                                {
                                    "0": "2",
                                    "1": "Cars",
                                    "2": "3",
                                    "3": "2",
                                    "4": "Station wagon"
                                }
                            ]
                        },
                        "text/html": "<table><tr><th>categoryId</th><th>categoryName</th><th>productId</th><th>productCategoryId</th><th>productName</th></tr><tr><td>1</td><td>Bikes</td><td>1</td><td>1</td><td>Bicycle</td></tr><tr><td>1</td><td>Bikes</td><td>2</td><td>1</td><td>Tricycle</td></tr><tr><td>1</td><td>Bikes</td><td>3</td><td>2</td><td>Station wagon</td></tr><tr><td>2</td><td>Cars</td><td>1</td><td>1</td><td>Bicycle</td></tr><tr><td>2</td><td>Cars</td><td>2</td><td>1</td><td>Tricycle</td></tr><tr><td>2</td><td>Cars</td><td>3</td><td>2</td><td>Station wagon</td></tr></table>"
                    },
                    "metadata": {}
                }
            ],
            "execution_count": 4
        },
        {
            "cell_type": "markdown",
            "source": [
                "... but now we'd like only to display the products alongside the categories they really *belong* to (so essentially rows 2, 4 and 5 are eliminated).\r\n",
                "\r\n",
                "The most basic way of extending the query we wrote earlier would be as follows:"
            ],
            "metadata": {
                "azdata_cell_guid": "9f4be975-3f75-4a61-8782-55140c434bb1"
            }
        },
        {
            "cell_type": "code",
            "source": [
                "SELECT\r\n",
                "   ProductCategory.categoryId\r\n",
                "   , ProductCategory.categoryName\r\n",
                "   , Product.productId\r\n",
                "   , Product.productCategoryId\r\n",
                "   , Product.productName\r\n",
                "FROM ProductCategory\r\n",
                "CROSS JOIN Product\r\n",
                "WHERE ProductCategory.categoryId = Product.productCategoryId\r\n",
                ""
            ],
            "metadata": {
                "azdata_cell_guid": "c6426a80-5595-4195-b52f-c26a26c10b52"
            },
            "outputs": [
                {
                    "output_type": "display_data",
                    "data": {
                        "text/html": "(3 rows affected)"
                    },
                    "metadata": {}
                },
                {
                    "output_type": "display_data",
                    "data": {
                        "text/html": "Total execution time: 00:00:00.0369882"
                    },
                    "metadata": {}
                },
                {
                    "output_type": "execute_result",
                    "execution_count": 1,
                    "data": {
                        "application/vnd.dataresource+json": {
                            "schema": {
                                "fields": [
                                    {
                                        "name": "categoryId"
                                    },
                                    {
                                        "name": "categoryName"
                                    },
                                    {
                                        "name": "productId"
                                    },
                                    {
                                        "name": "productCategoryId"
                                    },
                                    {
                                        "name": "productName"
                                    }
                                ]
                            },
                            "data": [
                                {
                                    "0": "1",
                                    "1": "Bikes",
                                    "2": "1",
                                    "3": "1",
                                    "4": "Bicycle"
                                },
                                {
                                    "0": "1",
                                    "1": "Bikes",
                                    "2": "2",
                                    "3": "1",
                                    "4": "Tricycle"
                                },
                                {
                                    "0": "2",
                                    "1": "Cars",
                                    "2": "3",
                                    "3": "2",
                                    "4": "Station wagon"
                                }
                            ]
                        },
                        "text/html": "<table><tr><th>categoryId</th><th>categoryName</th><th>productId</th><th>productCategoryId</th><th>productName</th></tr><tr><td>1</td><td>Bikes</td><td>1</td><td>1</td><td>Bicycle</td></tr><tr><td>1</td><td>Bikes</td><td>2</td><td>1</td><td>Tricycle</td></tr><tr><td>2</td><td>Cars</td><td>3</td><td>2</td><td>Station wagon</td></tr></table>"
                    },
                    "metadata": {}
                }
            ],
            "execution_count": 1
        },
        {
            "cell_type": "markdown",
            "source": [
                "However, this way of writing is somewhat confusing: when reading from top to bottom, we essentially say first \"we want to make a cartesian product\", and then: \"now filter it back\".\r\n",
                "\r\n",
                "The better way to write this is using an `INNER JOIN` with an accompanying `ON` clause."
            ],
            "metadata": {
                "azdata_cell_guid": "fbd37896-0c9d-4352-ba38-b5237f10c71f"
            }
        },
        {
            "cell_type": "code",
            "source": [
                "SELECT\r\n",
                "   ProductCategory.categoryId\r\n",
                "   , ProductCategory.categoryName\r\n",
                "   , Product.productId\r\n",
                "   , Product.productCategoryId\r\n",
                "   , Product.productName\r\n",
                "FROM ProductCategory\r\n",
                "INNER JOIN Product ON ProductCategory.categoryId = Product.productCategoryId"
            ],
            "metadata": {
                "azdata_cell_guid": "58baac71-6755-4448-880b-9684b619a4e1"
            },
            "outputs": [
                {
                    "output_type": "display_data",
                    "data": {
                        "text/html": "(3 rows affected)"
                    },
                    "metadata": {}
                },
                {
                    "output_type": "display_data",
                    "data": {
                        "text/html": "Total execution time: 00:00:00.0195141"
                    },
                    "metadata": {}
                },
                {
                    "output_type": "execute_result",
                    "execution_count": 2,
                    "data": {
                        "application/vnd.dataresource+json": {
                            "schema": {
                                "fields": [
                                    {
                                        "name": "categoryId"
                                    },
                                    {
                                        "name": "categoryName"
                                    },
                                    {
                                        "name": "productId"
                                    },
                                    {
                                        "name": "productCategoryId"
                                    },
                                    {
                                        "name": "productName"
                                    }
                                ]
                            },
                            "data": [
                                {
                                    "0": "1",
                                    "1": "Bikes",
                                    "2": "1",
                                    "3": "1",
                                    "4": "Bicycle"
                                },
                                {
                                    "0": "1",
                                    "1": "Bikes",
                                    "2": "2",
                                    "3": "1",
                                    "4": "Tricycle"
                                },
                                {
                                    "0": "2",
                                    "1": "Cars",
                                    "2": "3",
                                    "3": "2",
                                    "4": "Station wagon"
                                }
                            ]
                        },
                        "text/html": "<table><tr><th>categoryId</th><th>categoryName</th><th>productId</th><th>productCategoryId</th><th>productName</th></tr><tr><td>1</td><td>Bikes</td><td>1</td><td>1</td><td>Bicycle</td></tr><tr><td>1</td><td>Bikes</td><td>2</td><td>1</td><td>Tricycle</td></tr><tr><td>2</td><td>Cars</td><td>3</td><td>2</td><td>Station wagon</td></tr></table>"
                    },
                    "metadata": {}
                }
            ],
            "execution_count": 2
        },
        {
            "cell_type": "markdown",
            "source": [
                "## Using joins\r\n",
                "\r\n",
                "1. Open SQL Server Management Studio\r\n",
                "2. Connect with the server `.` (this means as much as **local computer**) using your student credentials\r\n",
                "3. Click \"New Query\"\r\n",
                "4. Make sure you're connected to the `AdventureWorksLT2017` database\r\n",
                "5. Select the following columns from `SalesLT.Product`:\r\n",
                "   * Name\r\n",
                "   * Color\r\n",
                "   * ListPrice\r\n",
                "6. Notice the number of rows\r\n",
                "7. Add the column `Name` from the table `SalesLT.ProductCategory` to the result set. \r\n",
                "   * The column `Product.ProductCategoryID` should match with `ProductCategory.ProductCategoryID`\r\n",
                "   * The number of rows should stay the same\r\n",
                "8. Notice the number of rows in `SalesLT.ProductCategory`\r\n",
                "9. Introduce an error, but **do not execute the query yet**\r\n",
                "   * Replace your `ON` clause with the clause `ON Product.ProductCategoryID = Product.ProductCategoryID`\r\n",
                "   * How many rows do you expect?\r\n",
                "10. Execute the query, and check your assumptions\r\n",
                "11. Correct the query, so the result is identical to the result of step 7.\r\n",
                "\r\n",
                "Let's say we're interested in the color of product we've sold in a particular month.\r\n",
                "\r\n",
                "1. Write a query that joins the following tables. The columns to join on are called the same in all tables. The columns to select are listed below every table\r\n",
                "   * `SalesLT.Product`\r\n",
                "     * Name\r\n",
                "     * Color\r\n",
                "   * `SalesLT.SalesOrderDetail`\r\n",
                "     * UnitPrice\r\n",
                "   * `SalesLT.SalesOrderHeader`\r\n",
                "     * OrderDate\r\n",
                "2. Add a filter using a `WHERE` clause, so only orders with a `LineTotal` of greater than 203.3964 will be displayed\r\n",
                "3. Add two expressions to your select list: one for month, one for year\r\n",
                "   * The function `MONTH([name_of_date_column])` extracts a month number out of a date. For example, `MONTH('2019-12-31')` will yield `12`\r\n",
                "   * The function `YEAR()` does the same for a year.\r\n",
                "4. Extend the `WHERE` clause so that only results from June 2008 are displayed.\r\n",
                "5. Extend the query so that the 10 orders with the highest Freight costs are displayed. You need to use `TOP(n)` in conjunction with the `ORDER BY` clause."
            ],
            "metadata": {
                "azdata_cell_guid": "303b1a24-3683-4544-a42e-93fbd58364e2"
            }
        },
        {
            "cell_type": "code",
            "source": [
                "-- Cleanup code\r\n",
                "-- Removes tables we only needed for this section / notebook\r\n",
                "\r\n",
                "IF OBJECT_ID('dbo.ProductCategory', 'U') IS NOT NULL\r\n",
                "  DROP TABLE ProductCategory;\r\n",
                "\r\n",
                "IF OBJECT_ID('dbo.Product', 'U') IS NOT NULL\r\n",
                "  DROP TABLE Product;"
            ],
            "metadata": {
                "azdata_cell_guid": "c8c4731b-b7ed-4dde-bc84-ef41138d6c4d"
            },
            "outputs": [],
            "execution_count": null
        }
    ]
}