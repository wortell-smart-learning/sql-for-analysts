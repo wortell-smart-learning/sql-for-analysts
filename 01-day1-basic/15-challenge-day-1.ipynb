{
    "metadata": {
        "kernelspec": {
            "name": "SQL",
            "display_name": "SQL",
            "language": "sql"
        },
        "language_info": {
            "name": "sql",
            "version": ""
        }
    },
    "nbformat_minor": 2,
    "nbformat": 4,
    "cells": [
        {
            "cell_type": "markdown",
            "source": [
                "# Challenge - day 1\r\n",
                "\r\n",
                "## Introduction\r\n",
                "\r\n",
                "During the course until this moment, we've encountered various parts of the SQL language:\r\n",
                "\r\n",
                "* SELECT statements\r\n",
                "  * Sorting \r\n",
                "  * Filtering\r\n",
                "* Joins\r\n",
                "  * Carthesian products (cross join)\r\n",
                "  * Inner join\r\n",
                "  * Outer joins:\r\n",
                "    * Left\r\n",
                "    * Right\r\n",
                "    * Full\r\n",
                "* Insert\r\n",
                "* Update\r\n",
                "* Delete\r\n",
                "\r\n",
                "In the \"Challenge\", the various parts come together: you'll have to apply the several parts together to solve these little \"puzzles\".\r\n",
                "\r\n",
                "## About the AdventureWorks database\r\n",
                "\r\n",
                "In this \"Challenge\", we'll use the *AdventureWorks2017* database. This database has a lot of tables and schemas, so maybe you won't find everything at once. Some ways to explore the data structures:\r\n",
                "\r\n",
                "* Use the \"Search\" functionality in Azure Data Studio (double click on a database name to open the *Database Dashboard* with a *Search* box in it)\r\n",
                "* Google for the AdventureWorks 2017 Diagram (but don't spend too long staring to these pictures)\r\n",
                "* Ask someone else (last resort: the trainer)\r\n",
                "\r\n",
                "## Puzzles"
            ],
            "metadata": {
                "azdata_cell_guid": "0d0799d7-a706-4b66-9030-77e06b00376f"
            }
        },
        {
            "cell_type": "markdown",
            "source": [
                "### Persons and addresses\r\n",
                "\r\n",
                "We work with the following tables:\r\n",
                "\r\n",
                "* `Person.Person`\r\n",
                "* `Person.BusinessEntityAddress`\r\n",
                "* `Person.Address`\r\n",
                "\r\n",
                "You should know that the `AdventureWorks` source systems sometimes use system-wide unique keys. They call this a `BusinessEntityID`. For example, within the `Person.Person` table, the `BusinessEntityID` means the same as `PersonID`."
            ],
            "metadata": {
                "azdata_cell_guid": "7d9a8c9b-ea9f-4def-99da-c4f45dd65f6a"
            }
        },
        {
            "cell_type": "markdown",
            "source": [
                "1. Find out the number of persons within the database. \r\n",
                "   * How many distinct BusinessEntityID's do you have?"
            ],
            "metadata": {
                "azdata_cell_guid": "e0f1794e-dc1a-439d-95f1-97e4c577b769"
            }
        },
        {
            "cell_type": "code",
            "source": [
                ""
            ],
            "metadata": {
                "azdata_cell_guid": "76b41c7c-de50-4200-8d09-0ac16d0b602c"
            },
            "outputs": [],
            "execution_count": null
        },
        {
            "cell_type": "markdown",
            "source": [
                "2. Join `Person.Person` via `Person.BusinessEntityAddress` towards `Person.Address`. Include only persons with addresses.\r\n",
                "   * How many rows do you see? \r\n",
                "   * How many distinct BusinessEntityID's do you have left?"
            ],
            "metadata": {
                "azdata_cell_guid": "af7f81f8-faf1-45f6-9da4-3835c1e18b6a"
            }
        },
        {
            "cell_type": "code",
            "source": [
                ""
            ],
            "metadata": {
                "azdata_cell_guid": "aa714835-46af-41cf-a56b-cce75458c512"
            },
            "outputs": [],
            "execution_count": null
        },
        {
            "cell_type": "markdown",
            "source": [
                "3. Join `Person.Person` via `Person.BusinessEntityAddress` towards `Person.Address`. Include all persons, with or without addresses. Exclude addresses without persons attached.\r\n",
                "    * How many rows do you see?\r\n",
                "    * Check that the distinct of unique BusinessEntityID's is the same as in puzzle #1"
            ],
            "metadata": {
                "azdata_cell_guid": "2e2921c3-ec0d-46c3-93cb-1884769f02fb"
            }
        },
        {
            "cell_type": "code",
            "source": [
                ""
            ],
            "metadata": {
                "azdata_cell_guid": "29d77415-b167-438f-8242-3e6866128efa"
            },
            "outputs": [],
            "execution_count": null
        },
        {
            "cell_type": "markdown",
            "source": [
                "4. Join `Person.Person` via `Person.BusinessEntityAddress` towards `Person.Address`.\r\n",
                "   * In the `JOIN` clause, include all persons, with or without addresses \r\n",
                "   * In the `WHERE` clause, filter on customerse *without* an address (you can check for *NULL* values using `WHERE [column_name IS NULL]`)"
            ],
            "metadata": {
                "azdata_cell_guid": "5e829685-ad1a-4ca2-b214-7a0daaaa6187"
            }
        },
        {
            "cell_type": "code",
            "source": [
                ""
            ],
            "metadata": {
                "azdata_cell_guid": "e5b6c760-bd1b-49d6-8382-d15df65b7a68"
            },
            "outputs": [],
            "execution_count": null
        },
        {
            "cell_type": "markdown",
            "source": [
                "### Sales\r\n",
                "\r\n",
                "We add the following tables to work with:\r\n",
                "\r\n",
                "* `Production.Product`\r\n",
                "* `Production.ProductSubcategory`\r\n",
                "* `Production.ProductCategory`\r\n",
                "* `Sales.SalesOrderDetail` (contains order rows / line items: quantity, product, price, discount, etc.)\r\n",
                "* `Sales.SalesOrderHeader` (contains order-level items: shipping cost, total due, date ordered, etc.)\r\n",
                "\r\n",
                "*Know that you can join a Customer stored in `Person` to `SalesOrderHeader` via `Person.BusinessEntityID = Customer.PersonID` and `Customer.CustomerID = SalesOrderHeader.CustomerID`*"
            ],
            "metadata": {
                "azdata_cell_guid": "b4369378-669b-4cd0-8673-4964aba656c9"
            }
        },
        {
            "cell_type": "markdown",
            "source": [
                "5. Get all orders (stored in `SalesOrderHeader`) placed by any customer with the name `Mary`"
            ],
            "metadata": {
                "azdata_cell_guid": "a9708d5d-48d8-4db4-984e-db911dcd5ed2"
            }
        },
        {
            "cell_type": "code",
            "source": [
                ""
            ],
            "metadata": {
                "azdata_cell_guid": "bd6fc22b-e3d9-4220-a08f-220052bc6fc0"
            },
            "outputs": [],
            "execution_count": null
        },
        {
            "cell_type": "markdown",
            "source": [
                "6. Get all distinct colors of products that were ordered by any customer with the name `John`\r\n",
                "   * You'll need to navigate from `Person` to `SalesOrderHeader` to `SalesOrderDetail` to `Product`"
            ],
            "metadata": {
                "azdata_cell_guid": "d493e168-d15d-4722-a9cb-e4d1b7acf970"
            }
        },
        {
            "cell_type": "code",
            "source": [
                ""
            ],
            "metadata": {
                "azdata_cell_guid": "b5400e1a-2d68-4069-b052-5f30513cc962"
            },
            "outputs": [],
            "execution_count": null
        },
        {
            "cell_type": "markdown",
            "source": [
                "7. Get all products that have never been sold (you can use the pattern of puzzle #4 here)"
            ],
            "metadata": {
                "azdata_cell_guid": "fd03fcdf-20a9-42e6-9350-e17eb8652e1f"
            }
        },
        {
            "cell_type": "code",
            "source": [
                ""
            ],
            "metadata": {
                "azdata_cell_guid": "037c5017-385a-4e23-9f38-42ea2d758efc"
            },
            "outputs": [],
            "execution_count": null
        },
        {
            "cell_type": "markdown",
            "source": [
                "8. Get all distinct products with a list price larger than $ 200, that have ever been sold to persons with a Firstname starting with 'A'"
            ],
            "metadata": {
                "azdata_cell_guid": "7b083a0b-c0b4-4909-9b79-61cf53888325"
            }
        },
        {
            "cell_type": "code",
            "source": [
                ""
            ],
            "metadata": {
                "azdata_cell_guid": "065a5d46-4ccf-4fe6-8569-726097de06ae"
            },
            "outputs": [],
            "execution_count": null
        },
        {
            "cell_type": "markdown",
            "source": [
                "9. Select the distinct list of product category names (inside the `ProductCategory` table)\n",
                "    - Include only the product categories in which products are ever ordered by customers with a first name starting with 'M', and a last name ending with 'n', so for example:\n",
                "        - Meghan I. Alan\n",
                "        - Mackenzy Allen\n",
                "        - Mary Allen\n",
                "        - Mario J. Andersen\n",
                "        - etc."
            ],
            "metadata": {
                "azdata_cell_guid": "ca608cf8-d3a2-4887-8bb1-2f59f6890c30"
            },
            "attachments": {}
        },
        {
            "cell_type": "code",
            "source": [
                ""
            ],
            "metadata": {
                "azdata_cell_guid": "191519d4-5db4-42ef-a8f9-47d64d239f34"
            },
            "outputs": [],
            "execution_count": null
        },
        {
            "cell_type": "markdown",
            "source": [
                "10. Insert a new ProductCategory. Define the following columns:\r\n",
                "    * **Name**: `'Cars'`\r\n",
                "    * **ModifiedDate**: `GETDATE()`\r\n",
                "\r\n",
                "*Notice `GETDATE()`: this is a function within T-SQL and not a value, so you don't put quotes around it!*\r\n",
                "\r\n",
                "**Check the ProductCategoryID of the category you just created**"
            ],
            "metadata": {
                "azdata_cell_guid": "a9908d87-f4bb-4942-a527-20610b224aa4"
            }
        },
        {
            "cell_type": "code",
            "source": [
                ""
            ],
            "metadata": {
                "azdata_cell_guid": "2c30f810-8600-4b4f-be80-a3a026f13253"
            },
            "outputs": [],
            "execution_count": null
        },
        {
            "cell_type": "markdown",
            "source": [
                "11. Update the `ProductSubcategory` table, so that `Touring Bikes` is renamed to `Touring Cars`, and the *ProductCategoryID* column is filled with the *ProductCategoryID* from the \"Cars\" category created in puzzle #10."
            ],
            "metadata": {
                "azdata_cell_guid": "96928b65-d928-4f66-bb36-d1ea7c948d47"
            }
        },
        {
            "cell_type": "code",
            "source": [
                ""
            ],
            "metadata": {
                "azdata_cell_guid": "7a60a08d-9eeb-43be-9e65-0ff373cf9788"
            },
            "outputs": [],
            "execution_count": null
        },
        {
            "cell_type": "markdown",
            "source": [
                "12. Get all products where:\r\n",
                "    * A person ordered the product whose first name started with 'M' and last name ended with 'n'\r\n",
                "    * The Product Category is 'Cars'\r\n",
                "\r\n",
                "*You should get 8 products*"
            ],
            "metadata": {
                "azdata_cell_guid": "fccda682-6f32-4187-a484-c529633476be"
            }
        },
        {
            "cell_type": "code",
            "source": [
                ""
            ],
            "metadata": {
                "azdata_cell_guid": "f92d1287-e15a-45d5-b46b-4ed0dfaa9abc"
            },
            "outputs": [],
            "execution_count": null
        },
        {
            "cell_type": "markdown",
            "source": [
                "13. Undo your changes introduced in puzzle #11: rename subcategory `Touring Cars` back to `Touring Bikes`, and update *ProductCategoryID* to 1 (Bikes) for these rows."
            ],
            "metadata": {
                "azdata_cell_guid": "0cce5235-d580-4b84-89a7-7345a6157099"
            }
        },
        {
            "cell_type": "code",
            "source": [
                ""
            ],
            "metadata": {
                "azdata_cell_guid": "535fee2d-4b10-4ec8-ac78-e3d6c6e1fc9c"
            },
            "outputs": [],
            "execution_count": null
        },
        {
            "cell_type": "markdown",
            "source": [
                "14. Delete the Product Category \"Bikes\""
            ],
            "metadata": {
                "azdata_cell_guid": "030cc72e-4f44-434b-a492-a6c450095a1d"
            }
        }
    ]
}